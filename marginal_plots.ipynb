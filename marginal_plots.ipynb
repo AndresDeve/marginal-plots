{
  "cells": [
    {
      "cell_type": "raw",
      "metadata": {},
      "source": [
        "---\n",
        "title: Scrollytelling Marginal Plots\n",
        "author: Andrés Devegili\n",
        "format:\n",
        "  html:\n",
        "    smooth-scroll: true\n",
        "    toc: false\n",
        "execute:\n",
        "  echo: true\n",
        "  warning: false\n",
        "  message: false\n",
        "---"
      ],
      "id": "512fcca4"
    },
    {
      "cell_type": "markdown",
      "metadata": {},
      "source": [
        "# What are marginal plots?\n",
        "\n",
        "Marginal plots enrich a main plot (commonly a scatter plot) by adding additional visualizations along the margins of the axes.  \n",
        "These *marginal plots* allow you to highlight the distribution of data along a single axis, or to compare across both axes.\n",
        "\n",
        "They are widely used in exploratory data analysis and visualization to combine **context + relationship** in a single figure."
      ],
      "id": "e703d394"
    },
    {
      "cell_type": "raw",
      "metadata": {},
      "source": [
        "---\n",
        "\n",
        "# Layouts of marginal plots\n",
        "\n",
        "The position of marginal plots defines the type of layout:\n",
        "\n",
        "- **One-side** → distribution along a single axis.  \n",
        "- **Two-sides** → comparison along both axes.  \n",
        "- **Layers** → multiple plot types stacked on the same axis.\n",
        "\n",
        "![](Page%201.png)\n",
        "\n",
        "---"
      ],
      "id": "4faddaf7"
    },
    {
      "cell_type": "markdown",
      "metadata": {},
      "source": [
        "# Inventory of marginal plots\n",
        "\n",
        "Different plot types can serve as marginal visualizations.  \n",
        "Histograms, boxplots, density curves, strip plots, and violins are common options.  \n",
        "They can be combined in many ways depending on the analytic goal.\n",
        "\n",
        "![](Page%202.png)"
      ],
      "id": "6a463ae1"
    },
    {
      "cell_type": "raw",
      "metadata": {},
      "source": [
        "---\n",
        "\n",
        "# Examples: one-side and two-sides\n",
        "\n",
        "Here are some concrete examples of how marginal plots look in practice.\n",
        "\n",
        "![](Page%203.png)\n",
        "\n",
        "---"
      ],
      "id": "5e433e9b"
    },
    {
      "cell_type": "markdown",
      "metadata": {},
      "source": [
        "# Examples: hybrids and layered plots\n",
        "\n",
        "More advanced combinations allow hybrid and layered styles, stacking multiple plot types to enrich context.\n",
        "\n",
        "![](Page%204.png)"
      ],
      "id": "6ab61d0b"
    },
    {
      "cell_type": "markdown",
      "metadata": {},
      "source": [
        "---\n",
        "\n",
        "# How to build marginal plots?\n",
        "Below we show minimal recipes in **Python** and **R**\n",
        "\n",
        "## Python (Seaborn, jointplot)\n"
      ],
      "id": "ff185dac"
    },
    {
      "cell_type": "code",
      "metadata": {},
      "source": [
        "import seaborn as sns\n",
        "import matplotlib.pyplot as plt\n",
        "\n",
        "tips = sns.load_dataset(\"tips\")\n",
        "\n",
        "g = sns.jointplot(\n",
        "    data=tips, x=\"total_bill\", y=\"tip\",\n",
        "    kind=\"scatter\", height=6, marginal_ticks=True\n",
        ")\n",
        "plt.show()"
      ],
      "id": "a8353a15",
      "execution_count": null,
      "outputs": []
    },
    {
      "cell_type": "markdown",
      "metadata": {},
      "source": [
        "## R (ggplot2+ggExtra)\n",
        "\n",
        "\n",
        "\n",
        "```{r}\n",
        "library(ggplot2)\n",
        "library(ggExtra)\n",
        "\n",
        "# Example dataset\n",
        "p <- ggplot(mtcars, aes(x = mpg, y = wt)) +\n",
        "  geom_point(color = \"skyblue\", size=4, alpha=0.8)+\n",
        "  theme_minimal()+\n",
        "  labs(\n",
        "    x = \"Miles per gallon (mpg)\",\n",
        "    y = \"Weight (1000 lbs)\",\n",
        "    title = \"Fuel efficiency vs. vehicle weight\",\n",
        "    subtitle = \"With marginal histograms\"\n",
        "  )\n",
        "\n",
        "# Add marginal histograms\n",
        "ggMarginal(p, type = \"histogram\", fill = \"skyblue\", color = \"white\")\n",
        "```\n",
        "\n",
        "```{r}\n",
        "library(ggplot2)\n",
        "library(ggExtra)\n",
        "\n",
        "# Example dataset\n",
        "p2 <- ggplot(mtcars, aes(x = mpg, y = wt)) +\n",
        "  geom_point(color = \"darkgreen\", size = 4, alpha = 0.6)+\n",
        "  theme_minimal()+\n",
        "  labs(\n",
        "    x = \"Miles per gallon (mpg)\",\n",
        "    y = \"Weight (1000 lbs)\",\n",
        "    title = \"Fuel efficiency vs. vehicle weight\",\n",
        "    subtitle = \"With marginal densities\"\n",
        "  )\n",
        "\n",
        "# Add marginal density plots\n",
        "ggMarginal(p2, type = \"density\", fill = \"lightgreen\", color = \"darkgreen\", alpha = 0.5)\n",
        "```"
      ],
      "id": "ebfbdf2e"
    }
  ],
  "metadata": {
    "kernelspec": {
      "display_name": "Python 3",
      "language": "python",
      "name": "python3"
    }
  },
  "nbformat": 4,
  "nbformat_minor": 5
}